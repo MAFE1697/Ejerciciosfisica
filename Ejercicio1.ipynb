{
 "cells": [
  {
   "cell_type": "markdown",
   "id": "23a367f7",
   "metadata": {},
   "source": [
    "Estudiante Maria Fernanda Agreda"
   ]
  },
  {
   "cell_type": "markdown",
   "id": "65a83b0a",
   "metadata": {},
   "source": [
    "Trabajo de física"
   ]
  },
  {
   "cell_type": "markdown",
   "id": "a853a108",
   "metadata": {},
   "source": [
    "Ejercicio de variables"
   ]
  },
  {
   "cell_type": "markdown",
   "id": "4c9ca163",
   "metadata": {},
   "source": [
    "Primer número 1"
   ]
  },
  {
   "cell_type": "code",
   "execution_count": null,
   "id": "23e1f2c8",
   "metadata": {},
   "outputs": [],
   "source": []
  }
 ],
 "metadata": {
  "kernelspec": {
   "display_name": "Python 3 (ipykernel)",
   "language": "python",
   "name": "python3"
  },
  "language_info": {
   "codemirror_mode": {
    "name": "ipython",
    "version": 3
   },
   "file_extension": ".py",
   "mimetype": "text/x-python",
   "name": "python",
   "nbconvert_exporter": "python",
   "pygments_lexer": "ipython3",
   "version": "3.9.7"
  }
 },
 "nbformat": 4,
 "nbformat_minor": 5
}
